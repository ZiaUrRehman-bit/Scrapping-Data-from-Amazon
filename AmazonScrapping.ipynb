{
 "cells": [
  {
   "attachments": {},
   "cell_type": "markdown",
   "metadata": {},
   "source": [
    "# <center>Data Scrapping from Amazon</center>"
   ]
  },
  {
   "attachments": {},
   "cell_type": "markdown",
   "metadata": {},
   "source": [
    "## 01. Requirements"
   ]
  },
  {
   "attachments": {},
   "cell_type": "markdown",
   "metadata": {},
   "source": [
    "``Beautiful Soup``--> used to pass HTML code and find the information/elemnet inside it\n",
    "\n",
    "### ``1.1 pip install bs4``   "
   ]
  },
  {
   "cell_type": "code",
   "execution_count": 1,
   "metadata": {},
   "outputs": [
    {
     "name": "stdout",
     "output_type": "stream",
     "text": [
      "Collecting bs4\n",
      "  Downloading bs4-0.0.1.tar.gz (1.1 kB)\n",
      "  Preparing metadata (setup.py): started\n",
      "  Preparing metadata (setup.py): finished with status 'done'\n",
      "Requirement already satisfied: beautifulsoup4 in c:\\users\\hp\\appdata\\local\\programs\\python\\python39\\lib\\site-packages (from bs4) (4.11.2)\n",
      "Requirement already satisfied: soupsieve>1.2 in c:\\users\\hp\\appdata\\local\\programs\\python\\python39\\lib\\site-packages (from beautifulsoup4->bs4) (2.4)\n",
      "Building wheels for collected packages: bs4\n",
      "  Building wheel for bs4 (setup.py): started\n",
      "  Building wheel for bs4 (setup.py): finished with status 'done'\n",
      "  Created wheel for bs4: filename=bs4-0.0.1-py3-none-any.whl size=1257 sha256=5757c5f01a80c36e057ce23ec3e9481e063186055cf873a74d82005ed30c68b6\n",
      "  Stored in directory: c:\\users\\hp\\appdata\\local\\pip\\cache\\wheels\\73\\2b\\cb\\099980278a0c9a3e57ff1a89875ec07bfa0b6fcbebb9a8cad3\n",
      "Successfully built bs4\n",
      "Installing collected packages: bs4\n",
      "Successfully installed bs4-0.0.1\n"
     ]
    },
    {
     "name": "stderr",
     "output_type": "stream",
     "text": [
      "WARNING: Ignoring invalid distribution -pencv-contrib-python (c:\\users\\hp\\appdata\\local\\programs\\python\\python39\\lib\\site-packages)\n",
      "WARNING: Ignoring invalid distribution -pencv-contrib-python (c:\\users\\hp\\appdata\\local\\programs\\python\\python39\\lib\\site-packages)\n",
      "WARNING: Ignoring invalid distribution -pencv-contrib-python (c:\\users\\hp\\appdata\\local\\programs\\python\\python39\\lib\\site-packages)\n",
      "WARNING: Ignoring invalid distribution -pencv-contrib-python (c:\\users\\hp\\appdata\\local\\programs\\python\\python39\\lib\\site-packages)\n",
      "WARNING: Ignoring invalid distribution -pencv-contrib-python (c:\\users\\hp\\appdata\\local\\programs\\python\\python39\\lib\\site-packages)\n",
      "WARNING: Ignoring invalid distribution -pencv-contrib-python (c:\\users\\hp\\appdata\\local\\programs\\python\\python39\\lib\\site-packages)\n",
      "WARNING: Ignoring invalid distribution -pencv-contrib-python (c:\\users\\hp\\appdata\\local\\programs\\python\\python39\\lib\\site-packages)\n",
      "\n",
      "[notice] A new release of pip is available: 23.0.1 -> 23.1.2\n",
      "[notice] To update, run: python.exe -m pip install --upgrade pip\n"
     ]
    }
   ],
   "source": [
    "!pip install bs4"
   ]
  },
  {
   "attachments": {},
   "cell_type": "markdown",
   "metadata": {},
   "source": [
    "``request``--> used to send the request from over local pc to amazon website\n",
    "\n",
    "### ``1.2 pip install requests``   "
   ]
  },
  {
   "cell_type": "code",
   "execution_count": 2,
   "metadata": {},
   "outputs": [
    {
     "name": "stdout",
     "output_type": "stream",
     "text": [
      "Requirement already satisfied: requests in c:\\users\\hp\\appdata\\roaming\\python\\python39\\site-packages (2.28.1)\n",
      "Requirement already satisfied: certifi>=2017.4.17 in c:\\users\\hp\\appdata\\local\\programs\\python\\python39\\lib\\site-packages (from requests) (2021.10.8)\n",
      "Requirement already satisfied: charset-normalizer<3,>=2 in c:\\users\\hp\\appdata\\roaming\\python\\python39\\site-packages (from requests) (2.1.0)\n",
      "Requirement already satisfied: idna<4,>=2.5 in c:\\users\\hp\\appdata\\roaming\\python\\python39\\site-packages (from requests) (3.3)\n",
      "Requirement already satisfied: urllib3<1.27,>=1.21.1 in c:\\users\\hp\\appdata\\local\\programs\\python\\python39\\lib\\site-packages (from requests) (1.26.12)\n"
     ]
    },
    {
     "name": "stderr",
     "output_type": "stream",
     "text": [
      "WARNING: Ignoring invalid distribution -pencv-contrib-python (c:\\users\\hp\\appdata\\local\\programs\\python\\python39\\lib\\site-packages)\n",
      "WARNING: Ignoring invalid distribution -pencv-contrib-python (c:\\users\\hp\\appdata\\local\\programs\\python\\python39\\lib\\site-packages)\n",
      "WARNING: Ignoring invalid distribution -pencv-contrib-python (c:\\users\\hp\\appdata\\local\\programs\\python\\python39\\lib\\site-packages)\n",
      "WARNING: Ignoring invalid distribution -pencv-contrib-python (c:\\users\\hp\\appdata\\local\\programs\\python\\python39\\lib\\site-packages)\n",
      "WARNING: Ignoring invalid distribution -pencv-contrib-python (c:\\users\\hp\\appdata\\local\\programs\\python\\python39\\lib\\site-packages)\n",
      "WARNING: Ignoring invalid distribution -pencv-contrib-python (c:\\users\\hp\\appdata\\local\\programs\\python\\python39\\lib\\site-packages)\n",
      "\n",
      "[notice] A new release of pip is available: 23.0.1 -> 23.1.2\n",
      "[notice] To update, run: python.exe -m pip install --upgrade pip\n"
     ]
    }
   ],
   "source": [
    "!pip install requests"
   ]
  },
  {
   "attachments": {},
   "cell_type": "markdown",
   "metadata": {},
   "source": [
    "``Pandas``--> used to deal with dataframes\n",
    "\n",
    "### ``1.3 pip install pandas``   "
   ]
  },
  {
   "cell_type": "code",
   "execution_count": 3,
   "metadata": {},
   "outputs": [
    {
     "name": "stdout",
     "output_type": "stream",
     "text": [
      "Requirement already satisfied: pandas in c:\\users\\hp\\appdata\\roaming\\python\\python39\\site-packages (1.4.1)\n",
      "Requirement already satisfied: python-dateutil>=2.8.1 in c:\\users\\hp\\appdata\\local\\programs\\python\\python39\\lib\\site-packages (from pandas) (2.8.2)\n",
      "Requirement already satisfied: numpy>=1.18.5 in c:\\users\\hp\\appdata\\local\\programs\\python\\python39\\lib\\site-packages (from pandas) (1.20.2)\n",
      "Requirement already satisfied: pytz>=2020.1 in c:\\users\\hp\\appdata\\roaming\\python\\python39\\site-packages (from pandas) (2021.3)\n",
      "Requirement already satisfied: six>=1.5 in c:\\users\\hp\\appdata\\local\\programs\\python\\python39\\lib\\site-packages (from python-dateutil>=2.8.1->pandas) (1.16.0)\n"
     ]
    },
    {
     "name": "stderr",
     "output_type": "stream",
     "text": [
      "WARNING: Ignoring invalid distribution -pencv-contrib-python (c:\\users\\hp\\appdata\\local\\programs\\python\\python39\\lib\\site-packages)\n",
      "WARNING: Ignoring invalid distribution -pencv-contrib-python (c:\\users\\hp\\appdata\\local\\programs\\python\\python39\\lib\\site-packages)\n",
      "WARNING: Ignoring invalid distribution -pencv-contrib-python (c:\\users\\hp\\appdata\\local\\programs\\python\\python39\\lib\\site-packages)\n",
      "WARNING: Ignoring invalid distribution -pencv-contrib-python (c:\\users\\hp\\appdata\\local\\programs\\python\\python39\\lib\\site-packages)\n",
      "WARNING: Ignoring invalid distribution -pencv-contrib-python (c:\\users\\hp\\appdata\\local\\programs\\python\\python39\\lib\\site-packages)\n",
      "WARNING: Ignoring invalid distribution -pencv-contrib-python (c:\\users\\hp\\appdata\\local\\programs\\python\\python39\\lib\\site-packages)\n",
      "\n",
      "[notice] A new release of pip is available: 23.0.1 -> 23.1.2\n",
      "[notice] To update, run: python.exe -m pip install --upgrade pip\n"
     ]
    }
   ],
   "source": [
    "!pip install pandas"
   ]
  },
  {
   "attachments": {},
   "cell_type": "markdown",
   "metadata": {},
   "source": [
    "## 02. Import all above installed Packages"
   ]
  },
  {
   "cell_type": "code",
   "execution_count": 4,
   "metadata": {},
   "outputs": [],
   "source": [
    "from bs4 import BeautifulSoup\n",
    "import requests \n",
    "import pandas as pd"
   ]
  },
  {
   "attachments": {},
   "cell_type": "markdown",
   "metadata": {},
   "source": [
    "## 03. Copy link of Amazon page from which you want to scrape Data"
   ]
  },
  {
   "cell_type": "code",
   "execution_count": 8,
   "metadata": {},
   "outputs": [],
   "source": [
    "URL = \"https://www.amazon.com/s?k=playstation+5&sprefix=pla%2Caps%2C378&ref=nb_sb_ss_w_hit-vc-p0_playstation-5_k0_1_3\""
   ]
  },
  {
   "attachments": {},
   "cell_type": "markdown",
   "metadata": {},
   "source": [
    "## 04. Create Your Own User Agent"
   ]
  },
  {
   "attachments": {},
   "cell_type": "markdown",
   "metadata": {},
   "source": [
    "Go to --> https://www.whatismybrowser.com/detect/   and click on what is my user agent?"
   ]
  },
  {
   "cell_type": "code",
   "execution_count": 9,
   "metadata": {},
   "outputs": [],
   "source": [
    "# Prepare the header for request\n",
    "HEADERS = ({'User-Agent':'', 'Accepted-Language':'en-US, en;q=0.5'})"
   ]
  },
  {
   "attachments": {},
   "cell_type": "markdown",
   "metadata": {},
   "source": [
    "## 05. Make HTTP Request and check Responce"
   ]
  },
  {
   "cell_type": "code",
   "execution_count": 10,
   "metadata": {},
   "outputs": [],
   "source": [
    "webPage = requests.get(URL, headers=HEADERS)"
   ]
  },
  {
   "cell_type": "code",
   "execution_count": 11,
   "metadata": {},
   "outputs": [
    {
     "data": {
      "text/plain": [
       "<Response [200]>"
      ]
     },
     "execution_count": 11,
     "metadata": {},
     "output_type": "execute_result"
    }
   ],
   "source": [
    "webPage"
   ]
  },
  {
   "attachments": {},
   "cell_type": "markdown",
   "metadata": {},
   "source": [
    "## 06. Print the Content of Webpage"
   ]
  },
  {
   "cell_type": "code",
   "execution_count": 34,
   "metadata": {},
   "outputs": [],
   "source": [
    "# webPage.content"
   ]
  },
  {
   "cell_type": "code",
   "execution_count": 15,
   "metadata": {},
   "outputs": [
    {
     "data": {
      "text/plain": [
       "bytes"
      ]
     },
     "execution_count": 15,
     "metadata": {},
     "output_type": "execute_result"
    }
   ],
   "source": [
    "type(webPage.content)"
   ]
  },
  {
   "attachments": {},
   "cell_type": "markdown",
   "metadata": {},
   "source": [
    "## 07. Convert the content into HTML format using Soup"
   ]
  },
  {
   "cell_type": "code",
   "execution_count": 33,
   "metadata": {},
   "outputs": [],
   "source": [
    "soup = BeautifulSoup(webPage.content, \"html.parser\")\n"
   ]
  },
  {
   "attachments": {},
   "cell_type": "markdown",
   "metadata": {},
   "source": [
    "## 08. Extract the Links"
   ]
  },
  {
   "cell_type": "code",
   "execution_count": 17,
   "metadata": {},
   "outputs": [],
   "source": [
    "links = soup.find_all(\"a\", attrs={'class':'a-link-normal s-underline-text s-underline-link-text s-link-style a-text-normal'})"
   ]
  },
  {
   "cell_type": "code",
   "execution_count": 18,
   "metadata": {},
   "outputs": [
    {
     "data": {
      "text/plain": [
       "[<a class=\"a-link-normal s-underline-text s-underline-link-text s-link-style a-text-normal\" href=\"/PlayStation-PS5-Console-Ragnar%C3%B6k-Bundle-5/dp/B0BHC395WW/ref=sr_1_1?keywords=playstation+5&amp;qid=1683103911&amp;sprefix=pla%2Caps%2C378&amp;sr=8-1\"><span class=\"a-size-medium a-color-base a-text-bold a-text-normal\">PlayStation</span><span class=\"a-size-medium a-color-base a-text-normal\"> PS5 Console – God of War Ragnarök Bundle</span></a>,\n",
       " <a class=\"a-link-normal s-underline-text s-underline-link-text s-link-style a-text-normal\" href=\"/PlayStation-5-Console-CFI-1215A01X/dp/B0BCNKKZ91/ref=sr_1_2?keywords=playstation+5&amp;qid=1683103911&amp;sprefix=pla%2Caps%2C378&amp;sr=8-2\"><span class=\"a-size-medium a-color-base a-text-bold a-text-normal\">PlayStation</span><span class=\"a-size-medium a-color-base a-text-normal\"> </span><span class=\"a-size-medium a-color-base a-text-bold a-text-normal\">5</span><span class=\"a-size-medium a-color-base a-text-normal\"> Console CFI-1215A01X</span></a>,\n",
       " <a class=\"a-link-normal s-underline-text s-underline-link-text s-link-style a-text-normal\" href=\"/PlayStation-5-Console/dp/B09DFCB66S/ref=sr_1_3?keywords=playstation+5&amp;qid=1683103911&amp;sprefix=pla%2Caps%2C378&amp;sr=8-3\"><span class=\"a-size-medium a-color-base a-text-bold a-text-normal\">PlayStation</span><span class=\"a-size-medium a-color-base a-text-normal\"> </span><span class=\"a-size-medium a-color-base a-text-bold a-text-normal\">5</span><span class=\"a-size-medium a-color-base a-text-normal\"> Console CFI-1102A</span></a>,\n",
       " <a class=\"a-link-normal s-underline-text s-underline-link-text s-link-style a-text-normal\" href=\"/PlayStation-5-Digital/dp/B09DFHJTF5/ref=sr_1_4?keywords=playstation+5&amp;qid=1683103911&amp;sprefix=pla%2Caps%2C378&amp;sr=8-4\"><span class=\"a-size-medium a-color-base a-text-bold a-text-normal\">PlayStation</span><span class=\"a-size-medium a-color-base a-text-normal\"> </span><span class=\"a-size-medium a-color-base a-text-bold a-text-normal\">5</span><span class=\"a-size-medium a-color-base a-text-normal\"> Digital Edition - CFI-1102B</span></a>,\n",
       " <a class=\"a-link-normal s-underline-text s-underline-link-text s-link-style a-text-normal\" href=\"/PlayStation-5-Digital/dp/B08FC6MR62/ref=sr_1_5?keywords=playstation+5&amp;qid=1683103911&amp;sprefix=pla%2Caps%2C378&amp;sr=8-5\"><span class=\"a-size-medium a-color-base a-text-bold a-text-normal\">PlayStation</span><span class=\"a-size-medium a-color-base a-text-normal\"> </span><span class=\"a-size-medium a-color-base a-text-bold a-text-normal\">5</span><span class=\"a-size-medium a-color-base a-text-normal\"> Digital Edition</span></a>,\n",
       " <a class=\"a-link-normal s-underline-text s-underline-link-text s-link-style a-text-normal\" href=\"/DualSense-Wireless-Controller-PlayStation-5/dp/B08FC6C75Y/ref=sr_1_6?keywords=playstation+5&amp;qid=1683103911&amp;sprefix=pla%2Caps%2C378&amp;sr=8-6\"><span class=\"a-size-medium a-color-base a-text-bold a-text-normal\">Playstation</span><span class=\"a-size-medium a-color-base a-text-normal\"> DualSense Wireless Controller</span></a>,\n",
       " <a class=\"a-link-normal s-underline-text s-underline-link-text s-link-style a-text-normal\" href=\"/Remnant-2-PlayStation-5/dp/B0C3794Q5J/ref=sr_1_7?keywords=playstation+5&amp;qid=1683103911&amp;sprefix=pla%2Caps%2C378&amp;sr=8-7\"><span class=\"a-size-medium a-color-base a-text-normal\">Remnant 2 - </span><span class=\"a-size-medium a-color-base a-text-bold a-text-normal\">PlayStation</span><span class=\"a-size-medium a-color-base a-text-normal\"> </span><span class=\"a-size-medium a-color-base a-text-bold a-text-normal\">5</span></a>,\n",
       " <a class=\"a-link-normal s-underline-text s-underline-link-text s-link-style a-text-normal\" href=\"/DualSense-Edge-Wireless-Controller-PlayStation-5/dp/B0BSYFB99D/ref=sr_1_8?keywords=playstation+5&amp;qid=1683103911&amp;sprefix=pla%2Caps%2C378&amp;sr=8-8\"><span class=\"a-size-medium a-color-base a-text-normal\">DualSense Edge Wireless Controller</span></a>,\n",
       " <a class=\"a-link-normal s-underline-text s-underline-link-text s-link-style a-text-normal\" href=\"/PlayStation-Store-Gift-Card-Digital/dp/B004RMK4P8/ref=sr_1_9?keywords=playstation+5&amp;qid=1683103911&amp;sprefix=pla%2Caps%2C378&amp;sr=8-9\"><span class=\"a-size-medium a-color-base a-text-normal\">$50 </span><span class=\"a-size-medium a-color-base a-text-bold a-text-normal\">PlayStation</span><span class=\"a-size-medium a-color-base a-text-normal\"> Store Gift Card [Digital Code]</span></a>,\n",
       " <a class=\"a-link-normal s-underline-text s-underline-link-text s-link-style a-text-normal\" href=\"/Shadows-Over-Loathing-Collectors-PlayStation-5/dp/B0C346RJGH/ref=sr_1_10?keywords=playstation+5&amp;qid=1683103911&amp;sprefix=pla%2Caps%2C378&amp;sr=8-10\"><span class=\"a-size-medium a-color-base a-text-normal\">Shadows Over Loathing Collector’s Edition - </span><span class=\"a-size-medium a-color-base a-text-bold a-text-normal\">PlayStation</span><span class=\"a-size-medium a-color-base a-text-normal\"> </span><span class=\"a-size-medium a-color-base a-text-bold a-text-normal\">5</span></a>,\n",
       " <a class=\"a-link-normal s-underline-text s-underline-link-text s-link-style a-text-normal\" href=\"/PlayStation-Store-Gift-Card-Digital/dp/B00K59HKIQ/ref=sr_1_11?keywords=playstation+5&amp;qid=1683103911&amp;sprefix=pla%2Caps%2C378&amp;sr=8-11\"><span class=\"a-size-medium a-color-base a-text-normal\">$100 </span><span class=\"a-size-medium a-color-base a-text-bold a-text-normal\">PlayStation</span><span class=\"a-size-medium a-color-base a-text-normal\"> Store Gift Card [Digital Code]</span></a>,\n",
       " <a class=\"a-link-normal s-underline-text s-underline-link-text s-link-style a-text-normal\" href=\"/gp/slredirect/picassoRedirect.html/ref=pa_sp_mtf_aps_sr_pg1_1?ie=UTF8&amp;adId=A04088659UODGPX7X9Z7&amp;url=%2FLord-Rings-Gollum-PS5-PlayStation-5%2Fdp%2FB0B353CYST%2Fref%3Dsr_1_12_sspa%3Fkeywords%3Dplaystation%2B5%26qid%3D1683103911%26sprefix%3Dpla%252Caps%252C378%26sr%3D8-12-spons%26psc%3D1&amp;qualifier=1683103911&amp;id=5796116699565195&amp;widgetName=sp_mtf\"><span class=\"a-size-medium a-color-base a-text-normal\">The Lord of the Rings: Gollum (PS5)</span></a>,\n",
       " <a class=\"a-link-normal s-underline-text s-underline-link-text s-link-style a-text-normal\" href=\"/Postal-4-No-Regerts-PlayStation-5/dp/B0C3WQ2453/ref=sr_1_13?keywords=playstation+5&amp;qid=1683103911&amp;sprefix=pla%2Caps%2C378&amp;sr=8-13\"><span class=\"a-size-medium a-color-base a-text-normal\">Postal 4: No Regerts - </span><span class=\"a-size-medium a-color-base a-text-bold a-text-normal\">PlayStation</span><span class=\"a-size-medium a-color-base a-text-normal\"> </span><span class=\"a-size-medium a-color-base a-text-bold a-text-normal\">5</span></a>,\n",
       " <a class=\"a-link-normal s-underline-text s-underline-link-text s-link-style a-text-normal\" href=\"/ASSASSINS-CREED-MIRAGE-STANDARD-PLAYSTATION-5/dp/B0BDTQY4FR/ref=sr_1_14?keywords=playstation+5&amp;qid=1683103911&amp;sprefix=pla%2Caps%2C378&amp;sr=8-14\"><span class=\"a-size-medium a-color-base a-text-normal\">ASSASSIN'S CREED MIRAGE - STANDARD EDITION, </span><span class=\"a-size-medium a-color-base a-text-bold a-text-normal\">PLAYSTATION</span><span class=\"a-size-medium a-color-base a-text-normal\"> </span><span class=\"a-size-medium a-color-base a-text-bold a-text-normal\">5</span></a>,\n",
       " <a class=\"a-link-normal s-underline-text s-underline-link-text s-link-style a-text-normal\" href=\"/Forspoken-PlayStation-5/dp/B09NBBW4LS/ref=sr_1_15?keywords=playstation+5&amp;qid=1683103911&amp;sprefix=pla%2Caps%2C378&amp;sr=8-15\"><span class=\"a-size-medium a-color-base a-text-normal\">Forspoken - </span><span class=\"a-size-medium a-color-base a-text-bold a-text-normal\">PlayStation</span><span class=\"a-size-medium a-color-base a-text-normal\"> </span><span class=\"a-size-medium a-color-base a-text-bold a-text-normal\">5</span></a>,\n",
       " <a class=\"a-link-normal s-underline-text s-underline-link-text s-link-style a-text-normal\" href=\"/Hot-Wheels-Unleashed-PlayStation-5/dp/B08XRQCNCJ/ref=sr_1_16?keywords=playstation+5&amp;qid=1683103911&amp;sprefix=pla%2Caps%2C378&amp;sr=8-16\"><span class=\"a-size-medium a-color-base a-text-normal\">Hot Wheels Unleashed - </span><span class=\"a-size-medium a-color-base a-text-bold a-text-normal\">PlayStation</span><span class=\"a-size-medium a-color-base a-text-normal\"> </span><span class=\"a-size-medium a-color-base a-text-bold a-text-normal\">5</span></a>,\n",
       " <a class=\"a-link-normal s-underline-text s-underline-link-text s-link-style a-text-normal\" href=\"/gp/slredirect/picassoRedirect.html/ref=pa_sp_mtf_aps_sr_pg1_1?ie=UTF8&amp;adId=A10200752W75L9ECGHOSW&amp;url=%2FDREDGE-Deluxe-PlayStation-5%2Fdp%2FB0BW9GSX46%2Fref%3Dsr_1_17_sspa%3Fkeywords%3Dplaystation%2B5%26qid%3D1683103911%26sprefix%3Dpla%252Caps%252C378%26sr%3D8-17-spons%26psc%3D1&amp;qualifier=1683103911&amp;id=5796116699565195&amp;widgetName=sp_mtf\"><span class=\"a-size-medium a-color-base a-text-normal\">DREDGE: Deluxe Edition - </span><span class=\"a-size-medium a-color-base a-text-bold a-text-normal\">PlayStation</span><span class=\"a-size-medium a-color-base a-text-normal\"> </span><span class=\"a-size-medium a-color-base a-text-bold a-text-normal\">5</span></a>,\n",
       " <a class=\"a-link-normal s-underline-text s-underline-link-text s-link-style a-text-normal\" href=\"/Shadows-Over-Loathing-Physical-PlayStation-5/dp/B0C347HYW8/ref=sr_1_18?keywords=playstation+5&amp;qid=1683103911&amp;sprefix=pla%2Caps%2C378&amp;sr=8-18\"><span class=\"a-size-medium a-color-base a-text-normal\">Shadows Over Loathing Physical Edition - </span><span class=\"a-size-medium a-color-base a-text-bold a-text-normal\">PlayStation</span><span class=\"a-size-medium a-color-base a-text-normal\"> </span><span class=\"a-size-medium a-color-base a-text-bold a-text-normal\">5</span></a>,\n",
       " <a class=\"a-link-normal s-underline-text s-underline-link-text s-link-style a-text-normal\" href=\"/gp/slredirect/picassoRedirect.html/ref=pa_sp_btf_aps_sr_pg1_1?ie=UTF8&amp;adId=A04445203SYKZMFPMNFI1&amp;url=%2FCult-Lamb-Standard-PlayStation-5%2Fdp%2FB0BJW2496Q%2Fref%3Dsr_1_19_sspa%3Fkeywords%3Dplaystation%2B5%26qid%3D1683103911%26sprefix%3Dpla%252Caps%252C378%26sr%3D8-19-spons%26psc%3D1&amp;qualifier=1683103911&amp;id=5796116699565195&amp;widgetName=sp_btf\"><span class=\"a-size-medium a-color-base a-text-normal\">Cult of the Lamb Standard Edition – </span><span class=\"a-size-medium a-color-base a-text-bold a-text-normal\">PlayStation</span><span class=\"a-size-medium a-color-base a-text-normal\"> </span><span class=\"a-size-medium a-color-base a-text-bold a-text-normal\">5</span></a>,\n",
       " <a class=\"a-link-normal s-underline-text s-underline-link-text s-link-style a-text-normal\" href=\"/gp/slredirect/picassoRedirect.html/ref=pa_sp_btf_aps_sr_pg1_1?ie=UTF8&amp;adId=A0697237189AZISHZMN9C&amp;url=%2FCrisis-Core-Final-Fantasy-Reunion-PlayStation%2Fdp%2FB0B5B2B2S1%2Fref%3Dsr_1_20_sspa%3Fkeywords%3Dplaystation%2B5%26qid%3D1683103911%26sprefix%3Dpla%252Caps%252C378%26sr%3D8-20-spons%26psc%3D1&amp;qualifier=1683103911&amp;id=5796116699565195&amp;widgetName=sp_btf\"><span class=\"a-size-medium a-color-base a-text-normal\">Crisis Core: Final Fantasy VII Reunion - </span><span class=\"a-size-medium a-color-base a-text-bold a-text-normal\">PlayStation</span><span class=\"a-size-medium a-color-base a-text-normal\"> </span><span class=\"a-size-medium a-color-base a-text-bold a-text-normal\">5</span></a>,\n",
       " <a class=\"a-link-normal s-underline-text s-underline-link-text s-link-style a-text-normal\" href=\"/gp/slredirect/picassoRedirect.html/ref=pa_sp_btf_aps_sr_pg1_1?ie=UTF8&amp;adId=A091908526BUWGR2KI2LB&amp;url=%2FStealth-Multiplatform-Wireless-Noise-Cancelling-Xbox-X%2Fdp%2FB0BX77C1LD%2Fref%3Dsr_1_21_sspa%3Fkeywords%3Dplaystation%2B5%26qid%3D1683103911%26sprefix%3Dpla%252Caps%252C378%26sr%3D8-21-spons%26psc%3D1&amp;qualifier=1683103911&amp;id=5796116699565195&amp;widgetName=sp_btf\"><span class=\"a-size-medium a-color-base a-text-normal\">Turtle Beach Stealth Pro Multiplatform Wireless Noise-Cancelling Gaming Headset for Xbox Series X|S, Xbox One, PS5, PS4, PC, Mac, Switch, &amp; Mobile – 50mm Speakers, Bluetooth, Dual Batteries – Black</span></a>]"
      ]
     },
     "execution_count": 18,
     "metadata": {},
     "output_type": "execute_result"
    }
   ],
   "source": [
    "links"
   ]
  },
  {
   "cell_type": "code",
   "execution_count": 21,
   "metadata": {},
   "outputs": [],
   "source": [
    "link = links[0].get('href')"
   ]
  },
  {
   "cell_type": "code",
   "execution_count": 22,
   "metadata": {},
   "outputs": [],
   "source": [
    "productList = \"https://amazon.com\" + link"
   ]
  },
  {
   "cell_type": "code",
   "execution_count": 23,
   "metadata": {},
   "outputs": [
    {
     "data": {
      "text/plain": [
       "'https://amazon.com/PlayStation-PS5-Console-Ragnar%C3%B6k-Bundle-5/dp/B0BHC395WW/ref=sr_1_1?keywords=playstation+5&qid=1683103911&sprefix=pla%2Caps%2C378&sr=8-1'"
      ]
     },
     "execution_count": 23,
     "metadata": {},
     "output_type": "execute_result"
    }
   ],
   "source": [
    "productList"
   ]
  },
  {
   "attachments": {},
   "cell_type": "markdown",
   "metadata": {},
   "source": [
    "## 09. Make HTTPS request and check the responce"
   ]
  },
  {
   "cell_type": "code",
   "execution_count": 24,
   "metadata": {},
   "outputs": [],
   "source": [
    "newWebPage = requests.get(productList, headers=HEADERS)"
   ]
  },
  {
   "cell_type": "code",
   "execution_count": 25,
   "metadata": {},
   "outputs": [
    {
     "data": {
      "text/plain": [
       "<Response [200]>"
      ]
     },
     "execution_count": 25,
     "metadata": {},
     "output_type": "execute_result"
    }
   ],
   "source": [
    "newWebPage"
   ]
  },
  {
   "attachments": {},
   "cell_type": "markdown",
   "metadata": {},
   "source": [
    "## 10. Convert the content into HTML format using soup"
   ]
  },
  {
   "cell_type": "code",
   "execution_count": 26,
   "metadata": {},
   "outputs": [],
   "source": [
    "newSoup = BeautifulSoup(newWebPage.content, \"html.parser\")"
   ]
  },
  {
   "attachments": {},
   "cell_type": "markdown",
   "metadata": {},
   "source": [
    "## 11. Extract the tittle of the page"
   ]
  },
  {
   "cell_type": "code",
   "execution_count": 28,
   "metadata": {},
   "outputs": [
    {
     "data": {
      "text/plain": [
       "'PlayStation PS5 Console – God of War Ragnarök Bundle'"
      ]
     },
     "execution_count": 28,
     "metadata": {},
     "output_type": "execute_result"
    }
   ],
   "source": [
    "newSoup.find(\"span\", attrs={'id':'productTitle'}).text.strip()"
   ]
  },
  {
   "attachments": {},
   "cell_type": "markdown",
   "metadata": {},
   "source": [
    "## 12. Extract the Price of the Product"
   ]
  },
  {
   "cell_type": "code",
   "execution_count": 31,
   "metadata": {},
   "outputs": [
    {
     "data": {
      "text/plain": [
       "'$509.00$509.00'"
      ]
     },
     "execution_count": 31,
     "metadata": {},
     "output_type": "execute_result"
    }
   ],
   "source": [
    "newSoup.find(\"span\", attrs={'class':'a-price aok-align-center'}).text"
   ]
  },
  {
   "cell_type": "code",
   "execution_count": 32,
   "metadata": {},
   "outputs": [
    {
     "data": {
      "text/plain": [
       "'$509.00'"
      ]
     },
     "execution_count": 32,
     "metadata": {},
     "output_type": "execute_result"
    }
   ],
   "source": [
    "newSoup.find(\"span\", attrs={'class':'a-price aok-align-center'}).find(\"span\", attrs={'class':'a-offscreen'}).text"
   ]
  },
  {
   "attachments": {},
   "cell_type": "markdown",
   "metadata": {},
   "source": [
    "## 13. Extract Ratings"
   ]
  },
  {
   "cell_type": "code",
   "execution_count": 37,
   "metadata": {},
   "outputs": [
    {
     "data": {
      "text/plain": [
       "'4.8 out of 5 stars'"
      ]
     },
     "execution_count": 37,
     "metadata": {},
     "output_type": "execute_result"
    }
   ],
   "source": [
    "newSoup.find(\"span\", attrs={'class':'a-icon-alt'}).text"
   ]
  },
  {
   "cell_type": "code",
   "execution_count": null,
   "metadata": {},
   "outputs": [],
   "source": []
  },
  {
   "attachments": {},
   "cell_type": "markdown",
   "metadata": {},
   "source": [
    "# <center>Full Code</center>"
   ]
  },
  {
   "cell_type": "code",
   "execution_count": 39,
   "metadata": {},
   "outputs": [],
   "source": [
    "from bs4 import BeautifulSoup\n",
    "import requests \n",
    "import pandas as pd\n",
    "\n",
    "def title(soup):\n",
    "\n",
    "    try:\n",
    "        title = soup.find(\"span\", attrs={'id':'productTitle'}).text.strip()\n",
    "    except:\n",
    "        title = \"Not Found\"\n",
    "    \n",
    "    return title\n",
    "\n",
    "def price(soup):\n",
    "\n",
    "    try:\n",
    "        price = soup.find(\"span\", attrs={'class':'a-price aok-align-center'}).find(\"span\", attrs={'class':'a-offscreen'}).text\n",
    "    except:\n",
    "        price = \"Not Found\"\n",
    "    \n",
    "    return price\n",
    "\n",
    "def ratings(soup):\n",
    "\n",
    "    try:\n",
    "        ratings = soup.find(\"span\", attrs={'class':'a-icon-alt'}).text\n",
    "    except:\n",
    "        ratings = \"Not Found\"\n",
    "    \n",
    "    return ratings\n",
    "\n",
    "# def title():\n",
    "\n",
    "# def title()\n",
    "\n",
    "\n",
    "if __name__ == '__main__':\n",
    "\n",
    "    # url of webpage\n",
    "    URL = \"https://www.amazon.com/s?k=playstation+5&sprefix=pla%2Caps%2C378&ref=nb_sb_ss_w_hit-vc-p0_playstation-5_k0_1_3\"\n",
    "\n",
    "    # User agent\n",
    "    # Prepare the header for request\n",
    "    HEADERS = ({'User-Agent':'', 'Accepted-Language':'en-US, en;q=0.5'})\n",
    "\n",
    "    # HTTP Request\n",
    "    webPage = requests.get(URL, headers=HEADERS)\n",
    "\n",
    "    # Convert the cotent into HTML format using soup\n",
    "    soup = BeautifulSoup(webPage.content, \"html.parser\")\n",
    "\n",
    "    # Extract the links\n",
    "    links = soup.find_all(\"a\", attrs={'class':'a-link-normal s-underline-text s-underline-link-text s-link-style a-text-normal'})\n",
    "\n",
    "    # store in list\n",
    "    linksList = []\n",
    "\n",
    "    for link in links:\n",
    "        linksList.append(link.get('href'))\n",
    "\n",
    "    data = {\"Title\":[], \"Price\":[], \"Ratings\":[]} #, \"Reviews\":[], \"Availability\":[]\n",
    "\n",
    "    for link in linksList:\n",
    "        newWebPage = requests.get(\"https://www.amazon.com\" + link, headers=HEADERS)\n",
    "        newSoup = BeautifulSoup(newWebPage.content, \"html.parser\")\n",
    "\n",
    "        data['Title'].append(title(newSoup))\n",
    "        data['Price'].append(price(newSoup))\n",
    "        data['Ratings'].append(ratings(newSoup))\n",
    "        # data['Reviews'].append(reviews(newSoup))\n",
    "        # data['Availability'].append(availability(newSoup)) \n",
    "\n",
    "    df = pd.DataFrame.from_dict(data)\n"
   ]
  },
  {
   "cell_type": "code",
   "execution_count": 40,
   "metadata": {},
   "outputs": [
    {
     "data": {
      "text/html": [
       "<div>\n",
       "<style scoped>\n",
       "    .dataframe tbody tr th:only-of-type {\n",
       "        vertical-align: middle;\n",
       "    }\n",
       "\n",
       "    .dataframe tbody tr th {\n",
       "        vertical-align: top;\n",
       "    }\n",
       "\n",
       "    .dataframe thead th {\n",
       "        text-align: right;\n",
       "    }\n",
       "</style>\n",
       "<table border=\"1\" class=\"dataframe\">\n",
       "  <thead>\n",
       "    <tr style=\"text-align: right;\">\n",
       "      <th></th>\n",
       "      <th>Title</th>\n",
       "      <th>Price</th>\n",
       "      <th>Ratings</th>\n",
       "    </tr>\n",
       "  </thead>\n",
       "  <tbody>\n",
       "    <tr>\n",
       "      <th>0</th>\n",
       "      <td>The Lord of the Rings: Gollum (PS5)</td>\n",
       "      <td>$59.99</td>\n",
       "      <td>Previous page of related Sponsored Products</td>\n",
       "    </tr>\n",
       "    <tr>\n",
       "      <th>1</th>\n",
       "      <td>PlayStation PS5 Console – God of War Ragnarök ...</td>\n",
       "      <td>$509.00</td>\n",
       "      <td>4.8 out of 5 stars</td>\n",
       "    </tr>\n",
       "    <tr>\n",
       "      <th>2</th>\n",
       "      <td>PlayStation 5 Console CFI-1215A01X</td>\n",
       "      <td>$499.00</td>\n",
       "      <td>4.8 out of 5 stars</td>\n",
       "    </tr>\n",
       "    <tr>\n",
       "      <th>3</th>\n",
       "      <td>PlayStation 5 Console CFI-1102A</td>\n",
       "      <td>Not Found</td>\n",
       "      <td>4.9 out of 5 stars</td>\n",
       "    </tr>\n",
       "    <tr>\n",
       "      <th>4</th>\n",
       "      <td>PlayStation 5 Digital Edition - CFI-1102B</td>\n",
       "      <td>Not Found</td>\n",
       "      <td>4.9 out of 5 stars</td>\n",
       "    </tr>\n",
       "    <tr>\n",
       "      <th>5</th>\n",
       "      <td>PlayStation 5 Digital Edition</td>\n",
       "      <td>Not Found</td>\n",
       "      <td>4.9 out of 5 stars</td>\n",
       "    </tr>\n",
       "    <tr>\n",
       "      <th>6</th>\n",
       "      <td>Playstation DualSense Wireless Controller</td>\n",
       "      <td>Not Found</td>\n",
       "      <td>4.8 out of 5 stars</td>\n",
       "    </tr>\n",
       "    <tr>\n",
       "      <th>7</th>\n",
       "      <td>Remnant 2 - PlayStation 5</td>\n",
       "      <td>$49.99</td>\n",
       "      <td>Previous page of related Sponsored Products</td>\n",
       "    </tr>\n",
       "    <tr>\n",
       "      <th>8</th>\n",
       "      <td>DualSense Edge Wireless Controller</td>\n",
       "      <td>$199.00</td>\n",
       "      <td>4.8 out of 5 stars</td>\n",
       "    </tr>\n",
       "    <tr>\n",
       "      <th>9</th>\n",
       "      <td>$50 PlayStation Store Gift Card [Digital Code]</td>\n",
       "      <td>$50.00</td>\n",
       "      <td>4.7 out of 5 stars</td>\n",
       "    </tr>\n",
       "    <tr>\n",
       "      <th>10</th>\n",
       "      <td>Shadows Over Loathing Collector’s Edition - Pl...</td>\n",
       "      <td>$99.99</td>\n",
       "      <td>Previous page of related Sponsored Products</td>\n",
       "    </tr>\n",
       "    <tr>\n",
       "      <th>11</th>\n",
       "      <td>Cult of the Lamb Standard Edition – PlayStation 5</td>\n",
       "      <td>$34.96</td>\n",
       "      <td>5.0 out of 5 stars</td>\n",
       "    </tr>\n",
       "    <tr>\n",
       "      <th>12</th>\n",
       "      <td>$100 PlayStation Store Gift Card [Digital Code]</td>\n",
       "      <td>$100.00</td>\n",
       "      <td>4.7 out of 5 stars</td>\n",
       "    </tr>\n",
       "    <tr>\n",
       "      <th>13</th>\n",
       "      <td>ASSASSIN'S CREED MIRAGE - STANDARD EDITION, PL...</td>\n",
       "      <td>$49.99</td>\n",
       "      <td>Previous page of related Sponsored Products</td>\n",
       "    </tr>\n",
       "    <tr>\n",
       "      <th>14</th>\n",
       "      <td>Postal 4: No Regerts - PlayStation 5</td>\n",
       "      <td>$39.99</td>\n",
       "      <td>Previous page of related Sponsored Products</td>\n",
       "    </tr>\n",
       "    <tr>\n",
       "      <th>15</th>\n",
       "      <td>Forspoken - PlayStation 5</td>\n",
       "      <td>Not Found</td>\n",
       "      <td>4.4 out of 5 stars</td>\n",
       "    </tr>\n",
       "    <tr>\n",
       "      <th>16</th>\n",
       "      <td>Turtle Beach Stealth 600 Gen 2 USB Wireless Am...</td>\n",
       "      <td>Not Found</td>\n",
       "      <td>4.3 out of 5 stars</td>\n",
       "    </tr>\n",
       "    <tr>\n",
       "      <th>17</th>\n",
       "      <td>Shadows Over Loathing Physical Edition - PlayS...</td>\n",
       "      <td>$44.99</td>\n",
       "      <td>Previous page of related Sponsored Products</td>\n",
       "    </tr>\n",
       "    <tr>\n",
       "      <th>18</th>\n",
       "      <td>Hot Wheels Unleashed - PlayStation 5</td>\n",
       "      <td>$19.99</td>\n",
       "      <td>4.7 out of 5 stars</td>\n",
       "    </tr>\n",
       "    <tr>\n",
       "      <th>19</th>\n",
       "      <td>Crisis Core: Final Fantasy VII Reunion - PlayS...</td>\n",
       "      <td>Not Found</td>\n",
       "      <td>4.7 out of 5 stars</td>\n",
       "    </tr>\n",
       "    <tr>\n",
       "      <th>20</th>\n",
       "      <td>Turtle Beach Stealth Pro Multiplatform Wireles...</td>\n",
       "      <td>$329.99</td>\n",
       "      <td>4.7 out of 5 stars</td>\n",
       "    </tr>\n",
       "    <tr>\n",
       "      <th>21</th>\n",
       "      <td>LEGO Brawls - PlayStation 5</td>\n",
       "      <td>Not Found</td>\n",
       "      <td>4.5 out of 5 stars</td>\n",
       "    </tr>\n",
       "  </tbody>\n",
       "</table>\n",
       "</div>"
      ],
      "text/plain": [
       "                                                Title      Price  \\\n",
       "0                 The Lord of the Rings: Gollum (PS5)     $59.99   \n",
       "1   PlayStation PS5 Console – God of War Ragnarök ...    $509.00   \n",
       "2                  PlayStation 5 Console CFI-1215A01X    $499.00   \n",
       "3                     PlayStation 5 Console CFI-1102A  Not Found   \n",
       "4           PlayStation 5 Digital Edition - CFI-1102B  Not Found   \n",
       "5                       PlayStation 5 Digital Edition  Not Found   \n",
       "6           Playstation DualSense Wireless Controller  Not Found   \n",
       "7                           Remnant 2 - PlayStation 5     $49.99   \n",
       "8                  DualSense Edge Wireless Controller    $199.00   \n",
       "9      $50 PlayStation Store Gift Card [Digital Code]     $50.00   \n",
       "10  Shadows Over Loathing Collector’s Edition - Pl...     $99.99   \n",
       "11  Cult of the Lamb Standard Edition – PlayStation 5     $34.96   \n",
       "12    $100 PlayStation Store Gift Card [Digital Code]    $100.00   \n",
       "13  ASSASSIN'S CREED MIRAGE - STANDARD EDITION, PL...     $49.99   \n",
       "14               Postal 4: No Regerts - PlayStation 5     $39.99   \n",
       "15                          Forspoken - PlayStation 5  Not Found   \n",
       "16  Turtle Beach Stealth 600 Gen 2 USB Wireless Am...  Not Found   \n",
       "17  Shadows Over Loathing Physical Edition - PlayS...     $44.99   \n",
       "18               Hot Wheels Unleashed - PlayStation 5     $19.99   \n",
       "19  Crisis Core: Final Fantasy VII Reunion - PlayS...  Not Found   \n",
       "20  Turtle Beach Stealth Pro Multiplatform Wireles...    $329.99   \n",
       "21                        LEGO Brawls - PlayStation 5  Not Found   \n",
       "\n",
       "                                        Ratings  \n",
       "0   Previous page of related Sponsored Products  \n",
       "1                            4.8 out of 5 stars  \n",
       "2                            4.8 out of 5 stars  \n",
       "3                            4.9 out of 5 stars  \n",
       "4                            4.9 out of 5 stars  \n",
       "5                            4.9 out of 5 stars  \n",
       "6                            4.8 out of 5 stars  \n",
       "7   Previous page of related Sponsored Products  \n",
       "8                            4.8 out of 5 stars  \n",
       "9                            4.7 out of 5 stars  \n",
       "10  Previous page of related Sponsored Products  \n",
       "11                           5.0 out of 5 stars  \n",
       "12                           4.7 out of 5 stars  \n",
       "13  Previous page of related Sponsored Products  \n",
       "14  Previous page of related Sponsored Products  \n",
       "15                           4.4 out of 5 stars  \n",
       "16                           4.3 out of 5 stars  \n",
       "17  Previous page of related Sponsored Products  \n",
       "18                           4.7 out of 5 stars  \n",
       "19                           4.7 out of 5 stars  \n",
       "20                           4.7 out of 5 stars  \n",
       "21                           4.5 out of 5 stars  "
      ]
     },
     "execution_count": 40,
     "metadata": {},
     "output_type": "execute_result"
    }
   ],
   "source": [
    "df"
   ]
  },
  {
   "cell_type": "code",
   "execution_count": null,
   "metadata": {},
   "outputs": [],
   "source": []
  }
 ],
 "metadata": {
  "kernelspec": {
   "display_name": "Python 3",
   "language": "python",
   "name": "python3"
  },
  "language_info": {
   "codemirror_mode": {
    "name": "ipython",
    "version": 3
   },
   "file_extension": ".py",
   "mimetype": "text/x-python",
   "name": "python",
   "nbconvert_exporter": "python",
   "pygments_lexer": "ipython3",
   "version": "3.9.1"
  },
  "orig_nbformat": 4
 },
 "nbformat": 4,
 "nbformat_minor": 2
}
